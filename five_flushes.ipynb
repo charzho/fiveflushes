{
 "cells": [
  {
   "cell_type": "code",
   "execution_count": 1,
   "metadata": {},
   "outputs": [],
   "source": [
    "import random \n",
    "import pandas as pd\n",
    "import numpy as np\n",
    "import seaborn as sns\n",
    "import matplotlib.pyplot as plt\n",
    "\n",
    "random.seed()\n",
    "sns.set()"
   ]
  },
  {
   "cell_type": "code",
   "execution_count": 2,
   "metadata": {},
   "outputs": [],
   "source": [
    "colors = ['red','blue','yellow','brown','purple']\n",
    "colors_pretty = ['firebrick','tab:blue','gold','tab:brown','mediumpurple']"
   ]
  },
  {
   "cell_type": "code",
   "execution_count": 3,
   "metadata": {},
   "outputs": [],
   "source": [
    "def players_init(numPlayers):\n",
    "    players = []\n",
    "    for i in range(0, numPlayers):\n",
    "        players.append([0, 0, 0, 0, 0])\n",
    "    return players"
   ]
  },
  {
   "cell_type": "code",
   "execution_count": 4,
   "metadata": {},
   "outputs": [],
   "source": [
    "def event_day(players, weights):\n",
    "    for player in players:\n",
    "        for film in range(0, 10):\n",
    "            random_color = random.choices([0, 1, 2, 3, 4], weights=weights)[0]\n",
    "            player[random_color] += 1"
   ]
  },
  {
   "cell_type": "code",
   "execution_count": 5,
   "metadata": {},
   "outputs": [],
   "source": [
    "def most_least(players, func):\n",
    "    players_most = []\n",
    "    for player in players:\n",
    "        players_max = [0, 0, 0, 0, 0]\n",
    "        max_colors = [count for count, value in enumerate(player) if value == func(player)]\n",
    "        for max_color in max_colors:\n",
    "            players_max[max_color] += 1\n",
    "        players_most.append(players_max)\n",
    "    return players_most"
   ]
  },
  {
   "cell_type": "code",
   "execution_count": 6,
   "metadata": {},
   "outputs": [],
   "source": [
    "def most_wanted_graph(players, colors, colors_pretty):\n",
    "    players_most_wanted = most_least(players, min)\n",
    "    most_df = pd.DataFrame(players_most_wanted, columns=colors)\n",
    "    return most_df.sum().plot.bar(title='Most Wanted Color',color=colors_pretty)\n",
    "\n",
    "def least_wanted_graph(players, colors, colors_pretty):\n",
    "    players_least_wanted = most_least(players, max)\n",
    "    least_df = pd.DataFrame(players_least_wanted, columns=colors)\n",
    "    return least_df.sum().plot.bar(title='Least Wanted Color',color=colors_pretty)"
   ]
  },
  {
   "cell_type": "code",
   "execution_count": 7,
   "metadata": {},
   "outputs": [],
   "source": [
    "even_weights = [1, 1, 1, 1, 1]\n",
    "red_weights = [4, 1, 2, 1, 2]\n",
    "blue_weights = [1, 4, 2, 1, 2]"
   ]
  },
  {
   "cell_type": "code",
   "execution_count": 8,
   "metadata": {},
   "outputs": [],
   "source": [
    "players = players_init(2000)"
   ]
  },
  {
   "cell_type": "code",
   "execution_count": 9,
   "metadata": {},
   "outputs": [],
   "source": [
    "#Trading is not accounted for!\n",
    "#event_day(players, weights)\n",
    "event_day(players, even_weights)\n",
    "event_day(players, even_weights)\n",
    "event_day(players, even_weights)\n",
    "event_day(players, even_weights)"
   ]
  },
  {
   "cell_type": "code",
   "execution_count": 10,
   "metadata": {},
   "outputs": [
    {
     "ename": "NameError",
     "evalue": "name 'axes' is not defined",
     "output_type": "error",
     "traceback": [
      "\u001b[1;31m---------------------------------------------------------------------------\u001b[0m",
      "\u001b[1;31mNameError\u001b[0m                                 Traceback (most recent call last)",
      "\u001b[1;32m<ipython-input-10-42ec1d096528>\u001b[0m in \u001b[0;36m<module>\u001b[1;34m\u001b[0m\n\u001b[1;32m----> 1\u001b[1;33m \u001b[0mmost_wanted_graph\u001b[0m\u001b[1;33m(\u001b[0m\u001b[0mplayers\u001b[0m\u001b[1;33m,\u001b[0m \u001b[0mcolors\u001b[0m\u001b[1;33m,\u001b[0m \u001b[0mcolors_pretty\u001b[0m\u001b[1;33m)\u001b[0m\u001b[1;33m.\u001b[0m\u001b[0mplot\u001b[0m\u001b[1;33m(\u001b[0m\u001b[0max\u001b[0m\u001b[1;33m=\u001b[0m\u001b[0maxes\u001b[0m\u001b[1;33m[\u001b[0m\u001b[1;36m0\u001b[0m\u001b[1;33m]\u001b[0m\u001b[1;33m)\u001b[0m\u001b[1;33m\u001b[0m\u001b[1;33m\u001b[0m\u001b[0m\n\u001b[0m",
      "\u001b[1;31mNameError\u001b[0m: name 'axes' is not defined"
     ]
    },
    {
     "data": {
      "image/png": "[encoded data removed]",
      "text/plain": [
       "<Figure size 432x288 with 1 Axes>"
      ]
     },
     "metadata": {},
     "output_type": "display_data"
    }
   ],
   "source": [
    "most_wanted_graph(players, colors, colors_pretty)"
   ]
  },
  {
   "cell_type": "code",
   "execution_count": null,
   "metadata": {},
   "outputs": [],
   "source": [
    "least_wanted_graph(players, colors, colors_pretty)"
   ]
  },
  {
   "cell_type": "code",
   "execution_count": null,
   "metadata": {},
   "outputs": [],
   "source": [
    "players = players_init(2000)"
   ]
  },
  {
   "cell_type": "code",
   "execution_count": null,
   "metadata": {},
   "outputs": [],
   "source": [
    "#Trading is not accounted for!\n",
    "#event_day(players, weights)\n",
    "event_day(players, red_weights)\n",
    "event_day(players, blue_weights)\n",
    "event_day(players, red_weights)\n",
    "event_day(players, blue_weights)"
   ]
  },
  {
   "cell_type": "code",
   "execution_count": null,
   "metadata": {},
   "outputs": [],
   "source": [
    "most_wanted_graph(players, colors, colors_pretty)"
   ]
  },
  {
   "cell_type": "code",
   "execution_count": null,
   "metadata": {},
   "outputs": [],
   "source": [
    "least_wanted_graph(players, colors, colors_pretty)"
   ]
  },
  {
   "cell_type": "code",
   "execution_count": null,
   "metadata": {},
   "outputs": [],
   "source": [
    "#fig, axes = plt.subplots(1,5,figsize=(30,7))\n",
    "#plt.title('Least Wanted Color')\n",
    "#plt.tight_layout()\n",
    "#plt.show()"
   ]
  }
 ],
 "metadata": {
  "kernelspec": {
   "display_name": "Python 3",
   "language": "python",
   "name": "python3"
  },
  "language_info": {
   "codemirror_mode": {
    "name": "ipython",
    "version": 3
   },
   "file_extension": ".py",
   "mimetype": "text/x-python",
   "name": "python",
   "nbconvert_exporter": "python",
   "pygments_lexer": "ipython3",
   "version": "3.8.5"
  }
 },
 "nbformat": 4,
 "nbformat_minor": 4
}
