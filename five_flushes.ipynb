{
 "cells": [
  {
   "cell_type": "code",
   "execution_count": 1,
   "metadata": {},
   "outputs": [],
   "source": [
    "import random \n",
    "import pandas as pd\n",
    "import numpy as np\n",
    "import seaborn as sns\n",
    "\n",
    "random.seed()\n",
    "sns.set()"
   ]
  },
  {
   "cell_type": "code",
   "execution_count": 2,
   "metadata": {},
   "outputs": [],
   "source": [
    "colors = ['red','blue','yellow','brown','purple']\n",
    "colors_pretty = ['firebrick','tab:blue','gold','tab:brown','mediumpurple']"
   ]
  },
  {
   "cell_type": "code",
   "execution_count": 3,
   "metadata": {},
   "outputs": [],
   "source": [
    "def players_init(numPlayers):\n",
    "    players = []\n",
    "    for i in range(0, numPlayers):\n",
    "        players.append([0, 0, 0, 0, 0])\n",
    "    return players"
   ]
  },
  {
   "cell_type": "code",
   "execution_count": 4,
   "metadata": {},
   "outputs": [],
   "source": [
    "def event_day(players, weights):\n",
    "    for player in players:\n",
    "        for film in range(0, 10):\n",
    "            random_color = random.choices([0, 1, 2, 3, 4], weights=weights)[0]\n",
    "            player[random_color] += 1"
   ]
  },
  {
   "cell_type": "code",
   "execution_count": 5,
   "metadata": {},
   "outputs": [],
   "source": [
    "def most_least(players, func):\n",
    "    players_most = []\n",
    "    for player in players:\n",
    "        players_max = [0, 0, 0, 0, 0]\n",
    "        max_colors = [count for count, value in enumerate(player) if value == func(player)]\n",
    "        for max_color in max_colors:\n",
    "            players_max[max_color] += 1\n",
    "        players_most.append(players_max)\n",
    "    return players_most"
   ]
  },
  {
   "cell_type": "code",
   "execution_count": null,
   "metadata": {},
   "outputs": [],
   "source": [
    "#even_weights = [1, 1, 1, 1, 1]"
   ]
  },
  {
   "cell_type": "code",
   "execution_count": 10,
   "metadata": {},
   "outputs": [],
   "source": [
    "players = players_init(2000)"
   ]
  },
  {
   "cell_type": "code",
   "execution_count": 15,
   "metadata": {},
   "outputs": [],
   "source": [
    "#event_day(players, weights)\n",
    "event_day(players,[4,1,2,1,2])\n",
    "event_day(players,[1,4,2,1,2])\n",
    "event_day(players,[4,1,2,1,2])\n",
    "event_day(players,[1,4,2,1,2])\n",
    "\n",
    "#Trading is not accounted for!"
   ]
  },
  {
   "cell_type": "code",
   "execution_count": 16,
   "metadata": {
    "scrolled": true
   },
   "outputs": [
    {
     "data": {
      "text/plain": [
       "<AxesSubplot:title={'center':'Most Wanted Color'}>"
      ]
     },
     "execution_count": 16,
     "metadata": {},
     "output_type": "execute_result"
    },
    {
     "data": {
      "image/png": "[encoded data removed]",
      "text/plain": [
       "<Figure size 432x288 with 1 Axes>"
      ]
     },
     "metadata": {},
     "output_type": "display_data"
    }
   ],
   "source": [
    "players_most_wanted = most_least(players, min)\n",
    "most_df = pd.DataFrame(players_most_wanted, columns=colors)\n",
    "most_df.sum().plot.bar(title='Most Wanted Color',color=colors_pretty)"
   ]
  },
  {
   "cell_type": "code",
   "execution_count": 14,
   "metadata": {},
   "outputs": [
    {
     "data": {
      "text/plain": [
       "<AxesSubplot:title={'center':'Least Wanted Color'}>"
      ]
     },
     "execution_count": 14,
     "metadata": {},
     "output_type": "execute_result"
    },
    {
     "data": {
      "image/png": "[encoded data removed]",
      "text/plain": [
       "<Figure size 432x288 with 1 Axes>"
      ]
     },
     "metadata": {},
     "output_type": "display_data"
    }
   ],
   "source": [
    "players_least_wanted = most_least(players, max)\n",
    "least_df = pd.DataFrame(players_least_wanted, columns=colors)\n",
    "least_df.sum().plot.bar(title='Least Wanted Color',color=colors_pretty)"
   ]
  },
  {
   "cell_type": "code",
   "execution_count": null,
   "metadata": {},
   "outputs": [],
   "source": []
  }
 ],
 "metadata": {
  "kernelspec": {
   "display_name": "Python 3",
   "language": "python",
   "name": "python3"
  },
  "language_info": {
   "codemirror_mode": {
    "name": "ipython",
    "version": 3
   },
   "file_extension": ".py",
   "mimetype": "text/x-python",
   "name": "python",
   "nbconvert_exporter": "python",
   "pygments_lexer": "ipython3",
   "version": "3.8.5"
  }
 },
 "nbformat": 4,
 "nbformat_minor": 4
}
